{
 "cells": [
  {
   "cell_type": "code",
   "execution_count": 2,
   "id": "86ce019b-2f13-4544-b42c-2d408b230d01",
   "metadata": {
    "scrolled": true
   },
   "outputs": [
    {
     "name": "stdout",
     "output_type": "stream",
     "text": [
      "Hola Mundo\n"
     ]
    }
   ],
   "source": [
    "print(\"Hola Mundo\")"
   ]
  },
  {
   "cell_type": "markdown",
   "id": "b937961d-713a-4e79-b9ef-af2edf471b96",
   "metadata": {},
   "source": [
    "Hola Mundo "
   ]
  },
  {
   "cell_type": "code",
   "execution_count": null,
   "id": "895a2e5d-a073-432b-96fd-4d343be1ef66",
   "metadata": {},
   "outputs": [],
   "source": []
  }
 ],
 "metadata": {
  "kernelspec": {
   "display_name": "Python 3 (ipykernel)",
   "language": "python",
   "name": "python3"
  },
  "language_info": {
   "codemirror_mode": {
    "name": "ipython",
    "version": 3
   },
   "file_extension": ".py",
   "mimetype": "text/x-python",
   "name": "python",
   "nbconvert_exporter": "python",
   "pygments_lexer": "ipython3",
   "version": "3.13.7"
  }
 },
 "nbformat": 4,
 "nbformat_minor": 5
}
